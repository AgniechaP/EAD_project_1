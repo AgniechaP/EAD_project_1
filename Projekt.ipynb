{
 "cells": [
  {
   "cell_type": "markdown",
   "metadata": {},
   "source": [
    "Zadanie 1 Wczytanie danych do jednego pandas dataframe"
   ]
  },
  {
   "cell_type": "code",
   "execution_count": 16,
   "metadata": {},
   "outputs": [],
   "source": [
    "import os\n",
    "import pandas as pd\n",
    "import matplotlib.pyplot as plt\n"
   ]
  },
  {
   "cell_type": "code",
   "execution_count": 17,
   "metadata": {},
   "outputs": [
    {
     "data": {
      "text/html": [
       "<div>\n",
       "<style scoped>\n",
       "    .dataframe tbody tr th:only-of-type {\n",
       "        vertical-align: middle;\n",
       "    }\n",
       "\n",
       "    .dataframe tbody tr th {\n",
       "        vertical-align: top;\n",
       "    }\n",
       "\n",
       "    .dataframe thead th {\n",
       "        text-align: right;\n",
       "    }\n",
       "</style>\n",
       "<table border=\"1\" class=\"dataframe\">\n",
       "  <thead>\n",
       "    <tr style=\"text-align: right;\">\n",
       "      <th></th>\n",
       "      <th>Name</th>\n",
       "      <th>Sex</th>\n",
       "      <th>Count</th>\n",
       "      <th>Year</th>\n",
       "    </tr>\n",
       "  </thead>\n",
       "  <tbody>\n",
       "    <tr>\n",
       "      <th>0</th>\n",
       "      <td>Mary</td>\n",
       "      <td>F</td>\n",
       "      <td>63254</td>\n",
       "      <td>1942</td>\n",
       "    </tr>\n",
       "    <tr>\n",
       "      <th>1</th>\n",
       "      <td>Barbara</td>\n",
       "      <td>F</td>\n",
       "      <td>44736</td>\n",
       "      <td>1942</td>\n",
       "    </tr>\n",
       "    <tr>\n",
       "      <th>2</th>\n",
       "      <td>Patricia</td>\n",
       "      <td>F</td>\n",
       "      <td>39461</td>\n",
       "      <td>1942</td>\n",
       "    </tr>\n",
       "    <tr>\n",
       "      <th>3</th>\n",
       "      <td>Linda</td>\n",
       "      <td>F</td>\n",
       "      <td>31611</td>\n",
       "      <td>1942</td>\n",
       "    </tr>\n",
       "    <tr>\n",
       "      <th>4</th>\n",
       "      <td>Carol</td>\n",
       "      <td>F</td>\n",
       "      <td>30271</td>\n",
       "      <td>1942</td>\n",
       "    </tr>\n",
       "    <tr>\n",
       "      <th>...</th>\n",
       "      <td>...</td>\n",
       "      <td>...</td>\n",
       "      <td>...</td>\n",
       "      <td>...</td>\n",
       "    </tr>\n",
       "    <tr>\n",
       "      <th>2085153</th>\n",
       "      <td>Ysmael</td>\n",
       "      <td>M</td>\n",
       "      <td>5</td>\n",
       "      <td>1945</td>\n",
       "    </tr>\n",
       "    <tr>\n",
       "      <th>2085154</th>\n",
       "      <td>Zacarias</td>\n",
       "      <td>M</td>\n",
       "      <td>5</td>\n",
       "      <td>1945</td>\n",
       "    </tr>\n",
       "    <tr>\n",
       "      <th>2085155</th>\n",
       "      <td>Zach</td>\n",
       "      <td>M</td>\n",
       "      <td>5</td>\n",
       "      <td>1945</td>\n",
       "    </tr>\n",
       "    <tr>\n",
       "      <th>2085156</th>\n",
       "      <td>Zachariah</td>\n",
       "      <td>M</td>\n",
       "      <td>5</td>\n",
       "      <td>1945</td>\n",
       "    </tr>\n",
       "    <tr>\n",
       "      <th>2085157</th>\n",
       "      <td>Zenon</td>\n",
       "      <td>M</td>\n",
       "      <td>5</td>\n",
       "      <td>1945</td>\n",
       "    </tr>\n",
       "  </tbody>\n",
       "</table>\n",
       "<p>2085158 rows × 4 columns</p>\n",
       "</div>"
      ],
      "text/plain": [
       "              Name Sex  Count  Year\n",
       "0             Mary   F  63254  1942\n",
       "1          Barbara   F  44736  1942\n",
       "2         Patricia   F  39461  1942\n",
       "3            Linda   F  31611  1942\n",
       "4            Carol   F  30271  1942\n",
       "...            ...  ..    ...   ...\n",
       "2085153     Ysmael   M      5  1945\n",
       "2085154   Zacarias   M      5  1945\n",
       "2085155       Zach   M      5  1945\n",
       "2085156  Zachariah   M      5  1945\n",
       "2085157      Zenon   M      5  1945\n",
       "\n",
       "[2085158 rows x 4 columns]"
      ]
     },
     "execution_count": 17,
     "metadata": {},
     "output_type": "execute_result"
    }
   ],
   "source": [
    "data_path = './data'\n",
    "dataframes = []\n",
    "\n",
    "for filename in os.listdir(data_path):\n",
    "    if filename.endswith(\".txt\"):\n",
    "        year = int(filename[3:7])\n",
    "        file_path = os.path.join(data_path, filename)\n",
    "\n",
    "        df = pd.read_csv(file_path, header=None, names=[\"Name\", \"Sex\", \"Count\"])\n",
    "        df['Year'] = year\n",
    "        dataframes.append(df)\n",
    "all_data = pd.concat(dataframes, ignore_index=True)\n",
    "all_data"
   ]
  },
  {
   "cell_type": "markdown",
   "metadata": {},
   "source": [
    "Zadanie 2 Ile unikalnych imion zostalo nadanych w tym czasie"
   ]
  },
  {
   "cell_type": "code",
   "execution_count": 18,
   "metadata": {},
   "outputs": [
    {
     "name": "stdout",
     "output_type": "stream",
     "text": [
      "Liczba unikalnych imion w calym zbiorze: 102449\n"
     ]
    }
   ],
   "source": [
    "unique_names_count = all_data['Name'].nunique()\n",
    "print(f\"Liczba unikalnych imion w calym zbiorze: {unique_names_count}\")"
   ]
  },
  {
   "cell_type": "markdown",
   "metadata": {},
   "source": [
    "Zadanie 3 Ile unikalnych imion zostało nadanych rozróżniając płeć żeńską i męską"
   ]
  },
  {
   "cell_type": "code",
   "execution_count": 19,
   "metadata": {},
   "outputs": [
    {
     "name": "stdout",
     "output_type": "stream",
     "text": [
      "Liczba unikalnych imion  F: 70227, Liczba unikalnych imion M: 43655\n"
     ]
    }
   ],
   "source": [
    "unique_names_by_sex = all_data.groupby(['Sex', 'Name'])['Name'].nunique()\n",
    "unique_names_by_sex_count = unique_names_by_sex.groupby('Sex').sum()\n",
    "print(f\"Liczba unikalnych imion  F: {unique_names_by_sex_count['F']}, Liczba unikalnych imion M: {unique_names_by_sex_count['M']}\")"
   ]
  },
  {
   "cell_type": "markdown",
   "metadata": {},
   "source": [
    "Zadanie 4 Stwórz nowe kolumny frequency_male i frequency_female i określ popularność każdego z imion w danym każdym roku dzieląc liczbę razy, kiedy imię zostało nadane przez całkowita liczbę urodzeń dla danej płci."
   ]
  },
  {
   "cell_type": "code",
   "execution_count": 20,
   "metadata": {},
   "outputs": [
    {
     "data": {
      "text/html": [
       "<div>\n",
       "<style scoped>\n",
       "    .dataframe tbody tr th:only-of-type {\n",
       "        vertical-align: middle;\n",
       "    }\n",
       "\n",
       "    .dataframe tbody tr th {\n",
       "        vertical-align: top;\n",
       "    }\n",
       "\n",
       "    .dataframe thead th {\n",
       "        text-align: right;\n",
       "    }\n",
       "</style>\n",
       "<table border=\"1\" class=\"dataframe\">\n",
       "  <thead>\n",
       "    <tr style=\"text-align: right;\">\n",
       "      <th>Sex</th>\n",
       "      <th>Year</th>\n",
       "      <th>Name</th>\n",
       "      <th>frequency_female</th>\n",
       "      <th>frequency_male</th>\n",
       "    </tr>\n",
       "  </thead>\n",
       "  <tbody>\n",
       "    <tr>\n",
       "      <th>0</th>\n",
       "      <td>1880</td>\n",
       "      <td>Aaron</td>\n",
       "      <td>0.000000</td>\n",
       "      <td>0.000923</td>\n",
       "    </tr>\n",
       "    <tr>\n",
       "      <th>1</th>\n",
       "      <td>1880</td>\n",
       "      <td>Ab</td>\n",
       "      <td>0.000000</td>\n",
       "      <td>0.000045</td>\n",
       "    </tr>\n",
       "    <tr>\n",
       "      <th>2</th>\n",
       "      <td>1880</td>\n",
       "      <td>Abbie</td>\n",
       "      <td>0.000780</td>\n",
       "      <td>0.000000</td>\n",
       "    </tr>\n",
       "    <tr>\n",
       "      <th>3</th>\n",
       "      <td>1880</td>\n",
       "      <td>Abbott</td>\n",
       "      <td>0.000000</td>\n",
       "      <td>0.000045</td>\n",
       "    </tr>\n",
       "    <tr>\n",
       "      <th>4</th>\n",
       "      <td>1880</td>\n",
       "      <td>Abby</td>\n",
       "      <td>0.000066</td>\n",
       "      <td>0.000000</td>\n",
       "    </tr>\n",
       "    <tr>\n",
       "      <th>...</th>\n",
       "      <td>...</td>\n",
       "      <td>...</td>\n",
       "      <td>...</td>\n",
       "      <td>...</td>\n",
       "    </tr>\n",
       "    <tr>\n",
       "      <th>1903285</th>\n",
       "      <td>2022</td>\n",
       "      <td>Zyrie</td>\n",
       "      <td>0.000000</td>\n",
       "      <td>0.000006</td>\n",
       "    </tr>\n",
       "    <tr>\n",
       "      <th>1903286</th>\n",
       "      <td>2022</td>\n",
       "      <td>Zyrin</td>\n",
       "      <td>0.000000</td>\n",
       "      <td>0.000003</td>\n",
       "    </tr>\n",
       "    <tr>\n",
       "      <th>1903287</th>\n",
       "      <td>2022</td>\n",
       "      <td>Zyron</td>\n",
       "      <td>0.000000</td>\n",
       "      <td>0.000007</td>\n",
       "    </tr>\n",
       "    <tr>\n",
       "      <th>1903288</th>\n",
       "      <td>2022</td>\n",
       "      <td>Zyrus</td>\n",
       "      <td>0.000000</td>\n",
       "      <td>0.000005</td>\n",
       "    </tr>\n",
       "    <tr>\n",
       "      <th>1903289</th>\n",
       "      <td>2022</td>\n",
       "      <td>Zyva</td>\n",
       "      <td>0.000006</td>\n",
       "      <td>0.000000</td>\n",
       "    </tr>\n",
       "  </tbody>\n",
       "</table>\n",
       "<p>1903290 rows × 4 columns</p>\n",
       "</div>"
      ],
      "text/plain": [
       "Sex      Year    Name  frequency_female  frequency_male\n",
       "0        1880   Aaron          0.000000        0.000923\n",
       "1        1880      Ab          0.000000        0.000045\n",
       "2        1880   Abbie          0.000780        0.000000\n",
       "3        1880  Abbott          0.000000        0.000045\n",
       "4        1880    Abby          0.000066        0.000000\n",
       "...       ...     ...               ...             ...\n",
       "1903285  2022   Zyrie          0.000000        0.000006\n",
       "1903286  2022   Zyrin          0.000000        0.000003\n",
       "1903287  2022   Zyron          0.000000        0.000007\n",
       "1903288  2022   Zyrus          0.000000        0.000005\n",
       "1903289  2022    Zyva          0.000006        0.000000\n",
       "\n",
       "[1903290 rows x 4 columns]"
      ]
     },
     "execution_count": 20,
     "metadata": {},
     "output_type": "execute_result"
    }
   ],
   "source": [
    "# Suma urodzeń dla każdego roku i płci \n",
    "all_data['Total_birth'] = all_data.groupby(['Year', 'Sex'])['Count'].transform('sum')\n",
    "all_data['Frequency_appearance'] = all_data['Count']/all_data['Total_birth']\n",
    "\n",
    "result_data = all_data.pivot(index=['Year', 'Name'], columns='Sex', values='Frequency_appearance').fillna(0).reset_index()\n",
    "result_data.rename(columns={\"F\" : \"frequency_female\", \"M\" : \"frequency_male\"}, inplace=True)\n",
    "result_data"
   ]
  },
  {
   "cell_type": "markdown",
   "metadata": {},
   "source": [
    "Zadanie 5 Określ i wyświetl wykres złożony z dwóch podwykresów, gdzie osią x jest skala czasu, a oś y reprezentuje: liczbę urodzin w danym roku (wykres na górze), stosunek liczby narodzin dziewczynek do liczby narodzin chłopców w każdym roku(wykres na dole) W którym roku zanotowano najmniejszą, a w którym największą różnicę w liczbie urodzeń między chłopcami a dziewczynkami (pytanie dotyczy podwykresu przedstawiającego stosunek liczby urodzin)? Odpowiedź wyznacz i wyświetl na ekranie"
   ]
  },
  {
   "cell_type": "code",
   "execution_count": 21,
   "metadata": {},
   "outputs": [
    {
     "data": {
      "text/html": [
       "<div>\n",
       "<style scoped>\n",
       "    .dataframe tbody tr th:only-of-type {\n",
       "        vertical-align: middle;\n",
       "    }\n",
       "\n",
       "    .dataframe tbody tr th {\n",
       "        vertical-align: top;\n",
       "    }\n",
       "\n",
       "    .dataframe thead th {\n",
       "        text-align: right;\n",
       "    }\n",
       "</style>\n",
       "<table border=\"1\" class=\"dataframe\">\n",
       "  <thead>\n",
       "    <tr style=\"text-align: right;\">\n",
       "      <th></th>\n",
       "      <th>Year</th>\n",
       "      <th>Total_birth_fm</th>\n",
       "    </tr>\n",
       "  </thead>\n",
       "  <tbody>\n",
       "    <tr>\n",
       "      <th>0</th>\n",
       "      <td>1880</td>\n",
       "      <td>201484.0</td>\n",
       "    </tr>\n",
       "    <tr>\n",
       "      <th>1</th>\n",
       "      <td>1881</td>\n",
       "      <td>192690.0</td>\n",
       "    </tr>\n",
       "    <tr>\n",
       "      <th>2</th>\n",
       "      <td>1882</td>\n",
       "      <td>221533.0</td>\n",
       "    </tr>\n",
       "    <tr>\n",
       "      <th>3</th>\n",
       "      <td>1883</td>\n",
       "      <td>216945.0</td>\n",
       "    </tr>\n",
       "    <tr>\n",
       "      <th>4</th>\n",
       "      <td>1884</td>\n",
       "      <td>243461.0</td>\n",
       "    </tr>\n",
       "    <tr>\n",
       "      <th>...</th>\n",
       "      <td>...</td>\n",
       "      <td>...</td>\n",
       "    </tr>\n",
       "    <tr>\n",
       "      <th>138</th>\n",
       "      <td>2018</td>\n",
       "      <td>3511750.0</td>\n",
       "    </tr>\n",
       "    <tr>\n",
       "      <th>139</th>\n",
       "      <td>2019</td>\n",
       "      <td>3465821.0</td>\n",
       "    </tr>\n",
       "    <tr>\n",
       "      <th>140</th>\n",
       "      <td>2020</td>\n",
       "      <td>3333981.0</td>\n",
       "    </tr>\n",
       "    <tr>\n",
       "      <th>141</th>\n",
       "      <td>2021</td>\n",
       "      <td>3379713.0</td>\n",
       "    </tr>\n",
       "    <tr>\n",
       "      <th>142</th>\n",
       "      <td>2022</td>\n",
       "      <td>3361896.0</td>\n",
       "    </tr>\n",
       "  </tbody>\n",
       "</table>\n",
       "<p>143 rows × 2 columns</p>\n",
       "</div>"
      ],
      "text/plain": [
       "     Year  Total_birth_fm\n",
       "0    1880        201484.0\n",
       "1    1881        192690.0\n",
       "2    1882        221533.0\n",
       "3    1883        216945.0\n",
       "4    1884        243461.0\n",
       "..    ...             ...\n",
       "138  2018       3511750.0\n",
       "139  2019       3465821.0\n",
       "140  2020       3333981.0\n",
       "141  2021       3379713.0\n",
       "142  2022       3361896.0\n",
       "\n",
       "[143 rows x 2 columns]"
      ]
     },
     "execution_count": 21,
     "metadata": {},
     "output_type": "execute_result"
    }
   ],
   "source": [
    "# Sum of births per year (all female + male results) - liczba urodzin w danym roku (wykres na górze)\n",
    "all_data['Total_birth_fm'] = all_data.groupby(['Year'])['Count'].transform('sum')\n",
    "total_births_per_year = all_data[['Year', 'Total_birth_fm']].groupby(['Year'], as_index=False).mean()\n",
    "total_births_per_year"
   ]
  },
  {
   "cell_type": "code",
   "execution_count": 22,
   "metadata": {},
   "outputs": [
    {
     "name": "stdout",
     "output_type": "stream",
     "text": [
      "Rok z min różnicą girls - boys births: 1880.0, rok z max różnicą: 1901.0\n"
     ]
    }
   ],
   "source": [
    "# stosunek liczby narodzin dziewczynek do liczby narodzin chłopców w każdym roku (wykres na dole)\n",
    "births_per_year_female_male = all_data.pivot(index=['Year', 'Name'], columns='Sex', values='Count').fillna(0).reset_index()\n",
    "births_per_year_female_male_sum = births_per_year_female_male[['Year', 'F', 'M']].groupby(['Year'], as_index=False).sum()\n",
    "births_per_year_female_male_sum['Ratio'] = births_per_year_female_male_sum['F']/births_per_year_female_male_sum['M']\n",
    "\n",
    "# Najmniejsza i największa różnica między chłopcami a dziewczynkami\n",
    "min_diff_year = births_per_year_female_male_sum.loc[births_per_year_female_male_sum['Ratio'].idxmin()]['Year']\n",
    "max_diff_year = births_per_year_female_male_sum.loc[births_per_year_female_male_sum['Ratio'].idxmax()]['Year']\n",
    "print(f\"Rok z min różnicą girls - boys births: {min_diff_year}, rok z max różnicą: {max_diff_year}\")"
   ]
  },
  {
   "cell_type": "code",
   "execution_count": 23,
   "metadata": {},
   "outputs": [
    {
     "data": {
      "text/plain": [
       "<matplotlib.legend.Legend at 0x7f91698b4e80>"
      ]
     },
     "execution_count": 23,
     "metadata": {},
     "output_type": "execute_result"
    },
    {
     "data": {
      "image/png": "[encoded data removed]",
      "text/plain": [
       "<Figure size 1100x1000 with 2 Axes>"
      ]
     },
     "metadata": {},
     "output_type": "display_data"
    }
   ],
   "source": [
    "fig, axes = plt.subplots(nrows=2, ncols=1, sharex=False, sharey = False, figsize=(11, 10))\n",
    "\n",
    "axes[0].plot(total_births_per_year['Year'], total_births_per_year['Total_birth_fm'])\n",
    "axes[0].set_ylabel('Number of births')\n",
    "axes[0].set_xlabel('Year')\n",
    "axes[0].legend(['Total nr births per year'], loc='upper left')\n",
    "axes[0].set_title('Total births of per year')\n",
    "\n",
    "axes[1].plot(births_per_year_female_male_sum['Year'], births_per_year_female_male_sum['Ratio'])\n",
    "axes[1].set_ylabel('Ratio')\n",
    "axes[1].set_xlabel('Year')\n",
    "axes[1].set_title('Girls - boys birth ratio')\n",
    "\n",
    "# Zaznaczenie min_diff i max_diff\n",
    "axes[1].scatter(min_diff_year, births_per_year_female_male_sum.loc[births_per_year_female_male_sum['Year'] == min_diff_year]['Ratio'].values[0],\n",
    "               color='red', marker='o', label=f'Min Diff Year: {min_diff_year}')\n",
    "axes[1].scatter(max_diff_year, births_per_year_female_male_sum.loc[births_per_year_female_male_sum['Year'] == max_diff_year]['Ratio'].values[0],\n",
    "               color='green', marker='o', label=f'Max Diff Year: {max_diff_year}')\n",
    "axes[1].legend()"
   ]
  },
  {
   "cell_type": "markdown",
   "metadata": {},
   "source": [
    "Zadanie 6 Wyznacz 1000 najpopularniejszych imion dla każdej płci w całym zakresie czasowym"
   ]
  },
  {
   "cell_type": "code",
   "execution_count": 30,
   "metadata": {},
   "outputs": [
    {
     "name": "stdout",
     "output_type": "stream",
     "text": [
      "Top 1000 imion dla płci żeńskiej:\n",
      "     Sex       Name  Frequency_appearance  Rank\n",
      "2936   F       Mary              4.749131     1\n",
      "1281   F  Elizabeth              1.543251     2\n",
      "2845   F   Margaret              1.443219     3\n",
      "274    F       Anna              1.304498     4\n",
      "1705   F      Helen              1.299765     5\n",
      "...   ..        ...                   ...   ...\n",
      "1961   F    Jenifer              0.014003   996\n",
      "2718   F        Luz              0.014000   997\n",
      "73     F      Aisha              0.013998   998\n",
      "1790   F       Iola              0.013956   999\n",
      "176    F     Althea              0.013951  1000\n",
      "\n",
      "[1000 rows x 4 columns]\n",
      "\n",
      "Top 1000 imion dla płci męskiej:\n",
      "     Sex     Name  Frequency_appearance  Rank\n",
      "6310   M     John              5.631279     1\n",
      "6158   M    James              4.876026     2\n",
      "7945   M  William              4.745829     3\n",
      "7384   M   Robert              4.008427     4\n",
      "4986   M  Charles              2.690533     5\n",
      "...   ..      ...                   ...   ...\n",
      "5378   M  Domingo              0.008856   996\n",
      "7848   M    Verne              0.008844   997\n",
      "5665   M      Fay              0.008808   998\n",
      "4562   M    Arlie              0.008807   999\n",
      "7111   M     Odis              0.008789  1000\n",
      "\n",
      "[1000 rows x 4 columns]\n"
     ]
    }
   ],
   "source": [
    "# Dla każdego imienia kumulacyjna suma wartości frequency - jako najpopularniejsze należy uznać imiona, które najdłużej zajmowały wysokie miejsce na liście rankingowej\n",
    "result_data_test = all_data.groupby(['Year', 'Name', 'Sex'])['Frequency_appearance'].sum().unstack(fill_value=0).reset_index()\n",
    "\n",
    "top_names_per_year_sex = all_data.groupby(['Year', 'Sex', 'Name'])['Frequency_appearance'].sum().reset_index()\n",
    "# Year - ascending, Sex - ascending, Frequency - descending \n",
    "top_names_per_year_sex = top_names_per_year_sex.sort_values(by=['Year', 'Sex', 'Frequency_appearance'], ascending=[True, True, False])\n",
    "top_names_per_year_sex['Rank'] = top_names_per_year_sex.groupby(['Year', 'Sex']).cumcount() + 1\n",
    "\n",
    "\n",
    "top1000_ranking = top_names_per_year_sex[top_names_per_year_sex['Rank'] <= 1000].groupby(['Sex', 'Name'])['Frequency_appearance'].sum().reset_index()\n",
    "top1000_ranking = top1000_ranking.sort_values(by=['Sex', 'Frequency_appearance'], ascending=[True, False])\n",
    "top1000_ranking['Rank'] = top1000_ranking.groupby('Sex').cumcount() + 1\n",
    "\n",
    "print(\"Top 1000 imion dla płci żeńskiej:\")\n",
    "print(top1000_ranking[top1000_ranking['Sex'] == 'F'].head(1000))\n",
    "\n",
    "print(\"\\nTop 1000 imion dla płci męskiej:\")\n",
    "print(top1000_ranking[top1000_ranking['Sex'] == 'M'].head(1000))\n",
    "\n"
   ]
  }
 ],
 "metadata": {
  "kernelspec": {
   "display_name": "ead_venv",
   "language": "python",
   "name": "python3"
  },
  "language_info": {
   "codemirror_mode": {
    "name": "ipython",
    "version": 3
   },
   "file_extension": ".py",
   "mimetype": "text/x-python",
   "name": "python",
   "nbconvert_exporter": "python",
   "pygments_lexer": "ipython3",
   "version": "3.10.12"
  }
 },
 "nbformat": 4,
 "nbformat_minor": 2
}
