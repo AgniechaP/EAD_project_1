{
 "cells": [
  {
   "cell_type": "markdown",
   "metadata": {},
   "source": [
    "Sales - obrót handlowy w danym dniu (to jest to, co prognozujesz) \n",
    "\n",
    "W analizie danych poszukujemy czynników wpływających na sprzedaż, tak, żeby po ich określeniu można było dokonać predykcji sprzedaży w pewnym horyzoncie czasu oraz zrozumieć relację między czynnikiem a wielkością sprzedaży."
   ]
  },
  {
   "cell_type": "markdown",
   "metadata": {},
   "source": [
    "Wszystkie pliki znajdują się bezpośrednio w tym samym katalogu co notebook. "
   ]
  },
  {
   "cell_type": "markdown",
   "metadata": {},
   "source": [
    "## FAZA I"
   ]
  },
  {
   "cell_type": "markdown",
   "metadata": {},
   "source": [
    "# Wczytanie i obróbka danych "
   ]
  },
  {
   "cell_type": "code",
   "execution_count": 1,
   "metadata": {},
   "outputs": [],
   "source": [
    "import pandas as pd\n",
    "import matplotlib.pyplot as plt\n",
    "import seaborn as sns "
   ]
  },
  {
   "cell_type": "code",
   "execution_count": 2,
   "metadata": {},
   "outputs": [],
   "source": [
    "store_data = pd.read_csv('store_data.csv', dtype={'StateHoliday': str}, parse_dates=['Date'])\n",
    "store_info = pd.read_csv('store.csv')\n",
    "store_states = pd.read_csv('store_states.csv')\n",
    "weather_data = pd.read_csv('weather.csv', parse_dates=['Date'])\n",
    "state_names = pd.read_csv('state_names.csv')"
   ]
  },
  {
   "cell_type": "markdown",
   "metadata": {},
   "source": [
    "Sprawdzanie brakujących wartości"
   ]
  },
  {
   "cell_type": "code",
   "execution_count": 3,
   "metadata": {},
   "outputs": [
    {
     "data": {
      "text/plain": [
       "Store                          0\n",
       "StoreType                      0\n",
       "Assortment                     0\n",
       "CompetitionDistance            3\n",
       "CompetitionOpenSinceMonth    354\n",
       "CompetitionOpenSinceYear     354\n",
       "Promo2                         0\n",
       "Promo2SinceWeek              544\n",
       "Promo2SinceYear              544\n",
       "PromoInterval                544\n",
       "dtype: int64"
      ]
     },
     "execution_count": 3,
     "metadata": {},
     "output_type": "execute_result"
    }
   ],
   "source": [
    "store_info.isna().sum()"
   ]
  },
  {
   "cell_type": "markdown",
   "metadata": {},
   "source": [
    "Poniższy kod sprawdza jak najlepiej uzupełnić brakujące dane Promo2SinceWeek, Promo2SinceYear, PromoInterval. Najpierw sprawdzam, czy istnieje sytuacja, gdzie promocja Promo2 istnieje (ma wartość 1, sklep bierze udział w promocji), ale nie ma danych dotyczących roku/numeru tygodnia, kiedy sklep zaczął w promocji uczestniczyć."
   ]
  },
  {
   "cell_type": "code",
   "execution_count": 4,
   "metadata": {},
   "outputs": [
    {
     "name": "stdout",
     "output_type": "stream",
     "text": [
      "Przypadków, gdzie promocja Promo2 istnieje, ale nie ma Promo2SinceWeek: 0\n",
      "Przypadków, gdzie promocja Promo2 istnieje, ale nie ma Promo2SinceYear: 0\n"
     ]
    }
   ],
   "source": [
    "# Promo2SinceWeek\n",
    "null_values_with_promo2 = store_info.loc[(store_info['Promo2'] == 1) & (store_info['Promo2SinceWeek'].isnull())]\n",
    "# Zliczanie ile takich przypadków występuje\n",
    "num_null_values_with_promo2 = null_values_with_promo2.shape[0]\n",
    "print(f\"Przypadków, gdzie promocja Promo2 istnieje, ale nie ma Promo2SinceWeek: {num_null_values_with_promo2}\")\n",
    "\n",
    "# Promo2SinceYear\n",
    "null_values_year_with_promo2 = store_info.loc[(store_info['Promo2'] == 1) & (store_info['Promo2SinceYear'].isnull())]\n",
    "# Zliczanie ile takich przypadków występuje\n",
    "num_null_values_year_with_promo2 = null_values_year_with_promo2.shape[0]\n",
    "print(f\"Przypadków, gdzie promocja Promo2 istnieje, ale nie ma Promo2SinceYear: {num_null_values_year_with_promo2}\")"
   ]
  },
  {
   "cell_type": "markdown",
   "metadata": {},
   "source": [
    "Nie ma przypadków, w których promocja by istniała, ale nie miała roku i numeru tygodnia kalendarzowego, kiedy sklep zaczął uczestniczyć w Promo2. Dlatego brakujące wartości w kolumnach Promo2SinceWeek, Promo2SinceYear, PromoInterval zastępujemy wartością 0.0"
   ]
  },
  {
   "cell_type": "code",
   "execution_count": 5,
   "metadata": {},
   "outputs": [
    {
     "data": {
      "text/plain": [
       "CompetitionOpenSinceMonth    354\n",
       "CompetitionOpenSinceYear     354\n",
       "CompetitionDistance            3\n",
       "Store                          0\n",
       "StoreType                      0\n",
       "Assortment                     0\n",
       "Promo2                         0\n",
       "Promo2SinceWeek                0\n",
       "Promo2SinceYear                0\n",
       "PromoInterval                  0\n",
       "dtype: int64"
      ]
     },
     "execution_count": 5,
     "metadata": {},
     "output_type": "execute_result"
    }
   ],
   "source": [
    "store_info[\"Promo2SinceWeek\"].fillna(0, inplace=True)\n",
    "store_info[\"Promo2SinceYear\"].fillna(0, inplace=True)\n",
    "store_info[\"PromoInterval\"].fillna(0, inplace=True)\n",
    "sum_of_nan = store_info.isna().sum().sort_values(ascending=False)\n",
    "sum_of_nan"
   ]
  },
  {
   "cell_type": "markdown",
   "metadata": {},
   "source": [
    "Poniższy kod sprawdza ile jest przypadków, w których zarówno CompetitionDistance jest null jak i CompetitionOpenSinceMonth/Year jest null. Okazuje się, że istnieją 3 takie przypadki, co odpowiada liczbie brakujących wartości w kolumnie CompetitionDistance. Ponieważ ta sytacja dotyczy tylko 3 przypadków i nie jesteśmy w stanie przewidzieć czasu otwarcia się konkurencji, usuwamy z datasetu store_info wiersze, gdzie we wszystkich tych 3 kolumnach równocześnie jest null."
   ]
  },
  {
   "cell_type": "code",
   "execution_count": 6,
   "metadata": {},
   "outputs": [
    {
     "name": "stdout",
     "output_type": "stream",
     "text": [
      "Liczba przypadków, gdzie CompetitionDistance jest null, CompetitionOpenSinceMonth jest null i CompetitionOpenSinceYear jest null: 3\n"
     ]
    }
   ],
   "source": [
    "# Wiersze, gdzie CompetitionDistance jest null, a CompetitionOpenSinceMonth nie jest null\n",
    "null_distance_null_open_since_month_year = store_info.loc[(store_info['CompetitionDistance'].isnull()) & (store_info['CompetitionOpenSinceMonth'].isnull()) & (store_info['CompetitionOpenSinceYear'].isnull())]\n",
    "# ZIle takich przypadków występuje\n",
    "num_cases_null_distance_null_open_since_month_year = null_distance_null_open_since_month_year.shape[0]\n",
    "\n",
    "print(f\"Liczba przypadków, gdzie CompetitionDistance jest null, CompetitionOpenSinceMonth jest null i CompetitionOpenSinceYear jest null: {num_cases_null_distance_null_open_since_month_year}\")\n"
   ]
  },
  {
   "cell_type": "code",
   "execution_count": 7,
   "metadata": {},
   "outputs": [
    {
     "data": {
      "text/plain": [
       "CompetitionOpenSinceMonth    351\n",
       "CompetitionOpenSinceYear     351\n",
       "Store                          0\n",
       "StoreType                      0\n",
       "Assortment                     0\n",
       "CompetitionDistance            0\n",
       "Promo2                         0\n",
       "Promo2SinceWeek                0\n",
       "Promo2SinceYear                0\n",
       "PromoInterval                  0\n",
       "dtype: int64"
      ]
     },
     "execution_count": 7,
     "metadata": {},
     "output_type": "execute_result"
    }
   ],
   "source": [
    "# Usuwanie wierszy, w których równocześnie CompetitionDistance, CompetitionOpenSinceMonth, CompetitionOpenSinceYear są null\n",
    "store_info.dropna(subset=['CompetitionDistance', 'CompetitionOpenSinceMonth', 'CompetitionOpenSinceYear'], how='all', inplace=True)\n",
    "sum_of_nan = store_info.isna().sum().sort_values(ascending=False)\n",
    "sum_of_nan"
   ]
  },
  {
   "cell_type": "markdown",
   "metadata": {},
   "source": [
    "Zostały wartości w kolumnach CompetitionOpenSinceMonth oraz CompetitionOpenSinceYear, które są brakujące. Uzupełniamy je modą. "
   ]
  },
  {
   "cell_type": "code",
   "execution_count": 8,
   "metadata": {},
   "outputs": [
    {
     "data": {
      "text/plain": [
       "Store                        0\n",
       "StoreType                    0\n",
       "Assortment                   0\n",
       "CompetitionDistance          0\n",
       "CompetitionOpenSinceMonth    0\n",
       "CompetitionOpenSinceYear     0\n",
       "Promo2                       0\n",
       "Promo2SinceWeek              0\n",
       "Promo2SinceYear              0\n",
       "PromoInterval                0\n",
       "dtype: int64"
      ]
     },
     "execution_count": 8,
     "metadata": {},
     "output_type": "execute_result"
    }
   ],
   "source": [
    "store_info[\"CompetitionOpenSinceMonth\"].fillna(store_info[\"CompetitionOpenSinceMonth\"].mode()[0], inplace=True)\n",
    "store_info[\"CompetitionOpenSinceYear\"].fillna(store_info[\"CompetitionOpenSinceYear\"].mode()[0], inplace=True)\n",
    "sum_of_nan = store_info.isna().sum().sort_values(ascending=False)\n",
    "sum_of_nan"
   ]
  },
  {
   "cell_type": "code",
   "execution_count": 9,
   "metadata": {},
   "outputs": [
    {
     "data": {
      "text/plain": [
       "Store            0\n",
       "DayOfWeek        0\n",
       "Date             0\n",
       "Sales            0\n",
       "Customers        0\n",
       "Open             0\n",
       "Promo            0\n",
       "StateHoliday     0\n",
       "SchoolHoliday    0\n",
       "dtype: int64"
      ]
     },
     "execution_count": 9,
     "metadata": {},
     "output_type": "execute_result"
    }
   ],
   "source": [
    "store_data.isna().sum()"
   ]
  },
  {
   "cell_type": "code",
   "execution_count": 10,
   "metadata": {},
   "outputs": [
    {
     "data": {
      "text/plain": [
       "Store    0\n",
       "State    0\n",
       "dtype: int64"
      ]
     },
     "execution_count": 10,
     "metadata": {},
     "output_type": "execute_result"
    }
   ],
   "source": [
    "store_states.isna().sum()"
   ]
  },
  {
   "cell_type": "markdown",
   "metadata": {},
   "source": [
    "Brakujące wartości w bazie weather uzupełniamy wartościami mean oraz wartością modalną dla Events."
   ]
  },
  {
   "cell_type": "code",
   "execution_count": 11,
   "metadata": {},
   "outputs": [
    {
     "data": {
      "text/plain": [
       "Max_Gust_SpeedKm_h            12236\n",
       "Events                         3951\n",
       "CloudCover                     1173\n",
       "Min_VisibilitykM                381\n",
       "Mean_VisibilityKm               381\n",
       "Max_VisibilityKm                381\n",
       "file                              0\n",
       "Date                              0\n",
       "Precipitationmm                   0\n",
       "Mean_Wind_SpeedKm_h               0\n",
       "Max_Wind_SpeedKm_h                0\n",
       "Min_Sea_Level_PressurehPa         0\n",
       "Mean_Sea_Level_PressurehPa        0\n",
       "Max_Sea_Level_PressurehPa         0\n",
       "Min_Humidity                      0\n",
       "Mean_Humidity                     0\n",
       "Max_Humidity                      0\n",
       "Min_DewpointC                     0\n",
       "MeanDew_PointC                    0\n",
       "Dew_PointC                        0\n",
       "Min_TemperatureC                  0\n",
       "Mean_TemperatureC                 0\n",
       "Max_TemperatureC                  0\n",
       "WindDirDegrees                    0\n",
       "dtype: int64"
      ]
     },
     "execution_count": 11,
     "metadata": {},
     "output_type": "execute_result"
    }
   ],
   "source": [
    "weather_data.isna().sum().sort_values(ascending=False)"
   ]
  },
  {
   "cell_type": "code",
   "execution_count": 12,
   "metadata": {},
   "outputs": [],
   "source": [
    "weather_data['Max_VisibilityKm'].fillna(weather_data['Max_VisibilityKm'].mean(),inplace = True)\n",
    "weather_data['Min_VisibilitykM'].fillna(weather_data['Min_VisibilitykM'].mean(),inplace = True)\n",
    "weather_data['CloudCover'].fillna(weather_data['CloudCover'].mean(),inplace = True)\n",
    "weather_data['Max_Gust_SpeedKm_h'].fillna(weather_data['Max_Gust_SpeedKm_h'].mean(),inplace = True)\n",
    "weather_data['Mean_VisibilityKm'].fillna(weather_data['Mean_VisibilityKm'].mean(),inplace = True)\n",
    "\n",
    "# NaN w kolumnie \"Events\" uzupełniane wartością modalną\n",
    "weather_data['Events'].fillna(weather_data['Events'].mode()[0], inplace=True)"
   ]
  },
  {
   "cell_type": "code",
   "execution_count": 13,
   "metadata": {},
   "outputs": [
    {
     "data": {
      "text/plain": [
       "file                          0\n",
       "Date                          0\n",
       "Events                        0\n",
       "CloudCover                    0\n",
       "Precipitationmm               0\n",
       "Max_Gust_SpeedKm_h            0\n",
       "Mean_Wind_SpeedKm_h           0\n",
       "Max_Wind_SpeedKm_h            0\n",
       "Min_VisibilitykM              0\n",
       "Mean_VisibilityKm             0\n",
       "Max_VisibilityKm              0\n",
       "Min_Sea_Level_PressurehPa     0\n",
       "Mean_Sea_Level_PressurehPa    0\n",
       "Max_Sea_Level_PressurehPa     0\n",
       "Min_Humidity                  0\n",
       "Mean_Humidity                 0\n",
       "Max_Humidity                  0\n",
       "Min_DewpointC                 0\n",
       "MeanDew_PointC                0\n",
       "Dew_PointC                    0\n",
       "Min_TemperatureC              0\n",
       "Mean_TemperatureC             0\n",
       "Max_TemperatureC              0\n",
       "WindDirDegrees                0\n",
       "dtype: int64"
      ]
     },
     "execution_count": 13,
     "metadata": {},
     "output_type": "execute_result"
    }
   ],
   "source": [
    "weather_data.isna().sum().sort_values(ascending=False)"
   ]
  },
  {
   "cell_type": "code",
   "execution_count": 14,
   "metadata": {},
   "outputs": [
    {
     "data": {
      "text/plain": [
       "StateName    0\n",
       "State        0\n",
       "dtype: int64"
      ]
     },
     "execution_count": 14,
     "metadata": {},
     "output_type": "execute_result"
    }
   ],
   "source": [
    "state_names.isna().sum()"
   ]
  },
  {
   "cell_type": "markdown",
   "metadata": {},
   "source": [
    "Sprawdzanie kolumn i kluczy w celu zmergowania danych"
   ]
  },
  {
   "cell_type": "code",
   "execution_count": 15,
   "metadata": {},
   "outputs": [
    {
     "name": "stdout",
     "output_type": "stream",
     "text": [
      "['Store', 'DayOfWeek', 'Date', 'Sales', 'Customers', 'Open', 'Promo', 'StateHoliday', 'SchoolHoliday']\n",
      "['Store', 'StoreType', 'Assortment', 'CompetitionDistance', 'CompetitionOpenSinceMonth', 'CompetitionOpenSinceYear', 'Promo2', 'Promo2SinceWeek', 'Promo2SinceYear', 'PromoInterval']\n",
      "['Store', 'State']\n",
      "['file', 'Date', 'Max_TemperatureC', 'Mean_TemperatureC', 'Min_TemperatureC', 'Dew_PointC', 'MeanDew_PointC', 'Min_DewpointC', 'Max_Humidity', 'Mean_Humidity', 'Min_Humidity', 'Max_Sea_Level_PressurehPa', 'Mean_Sea_Level_PressurehPa', 'Min_Sea_Level_PressurehPa', 'Max_VisibilityKm', 'Mean_VisibilityKm', 'Min_VisibilitykM', 'Max_Wind_SpeedKm_h', 'Mean_Wind_SpeedKm_h', 'Max_Gust_SpeedKm_h', 'Precipitationmm', 'CloudCover', 'Events', 'WindDirDegrees']\n",
      "['StateName', 'State']\n"
     ]
    }
   ],
   "source": [
    "print(store_data.columns.tolist())\n",
    "print(store_info.columns.tolist())\n",
    "print(store_states.columns.tolist())\n",
    "print(weather_data.columns.tolist())\n",
    "print(state_names.columns.tolist())"
   ]
  },
  {
   "cell_type": "code",
   "execution_count": 16,
   "metadata": {},
   "outputs": [
    {
     "data": {
      "text/html": [
       "<div>\n",
       "<style scoped>\n",
       "    .dataframe tbody tr th:only-of-type {\n",
       "        vertical-align: middle;\n",
       "    }\n",
       "\n",
       "    .dataframe tbody tr th {\n",
       "        vertical-align: top;\n",
       "    }\n",
       "\n",
       "    .dataframe thead th {\n",
       "        text-align: right;\n",
       "    }\n",
       "</style>\n",
       "<table border=\"1\" class=\"dataframe\">\n",
       "  <thead>\n",
       "    <tr style=\"text-align: right;\">\n",
       "      <th></th>\n",
       "      <th>Store</th>\n",
       "      <th>DayOfWeek</th>\n",
       "      <th>Date</th>\n",
       "      <th>Sales</th>\n",
       "      <th>Customers</th>\n",
       "      <th>Open</th>\n",
       "      <th>Promo</th>\n",
       "      <th>StateHoliday</th>\n",
       "      <th>SchoolHoliday</th>\n",
       "      <th>StoreType</th>\n",
       "      <th>...</th>\n",
       "      <th>Max_VisibilityKm</th>\n",
       "      <th>Mean_VisibilityKm</th>\n",
       "      <th>Min_VisibilitykM</th>\n",
       "      <th>Max_Wind_SpeedKm_h</th>\n",
       "      <th>Mean_Wind_SpeedKm_h</th>\n",
       "      <th>Max_Gust_SpeedKm_h</th>\n",
       "      <th>Precipitationmm</th>\n",
       "      <th>CloudCover</th>\n",
       "      <th>Events</th>\n",
       "      <th>WindDirDegrees</th>\n",
       "    </tr>\n",
       "  </thead>\n",
       "  <tbody>\n",
       "    <tr>\n",
       "      <th>0</th>\n",
       "      <td>1</td>\n",
       "      <td>5</td>\n",
       "      <td>2015-07-31</td>\n",
       "      <td>5263</td>\n",
       "      <td>555</td>\n",
       "      <td>1</td>\n",
       "      <td>1</td>\n",
       "      <td>0</td>\n",
       "      <td>1</td>\n",
       "      <td>c</td>\n",
       "      <td>...</td>\n",
       "      <td>31.000000</td>\n",
       "      <td>14.000000</td>\n",
       "      <td>10.000000</td>\n",
       "      <td>14</td>\n",
       "      <td>5</td>\n",
       "      <td>48.864317</td>\n",
       "      <td>0.00</td>\n",
       "      <td>2.000000</td>\n",
       "      <td>Fog</td>\n",
       "      <td>354</td>\n",
       "    </tr>\n",
       "    <tr>\n",
       "      <th>1</th>\n",
       "      <td>1</td>\n",
       "      <td>5</td>\n",
       "      <td>2015-07-31</td>\n",
       "      <td>5263</td>\n",
       "      <td>555</td>\n",
       "      <td>1</td>\n",
       "      <td>1</td>\n",
       "      <td>0</td>\n",
       "      <td>1</td>\n",
       "      <td>c</td>\n",
       "      <td>...</td>\n",
       "      <td>31.000000</td>\n",
       "      <td>14.000000</td>\n",
       "      <td>10.000000</td>\n",
       "      <td>21</td>\n",
       "      <td>13</td>\n",
       "      <td>48.864317</td>\n",
       "      <td>0.00</td>\n",
       "      <td>5.000000</td>\n",
       "      <td>Rain</td>\n",
       "      <td>287</td>\n",
       "    </tr>\n",
       "    <tr>\n",
       "      <th>2</th>\n",
       "      <td>1</td>\n",
       "      <td>5</td>\n",
       "      <td>2015-07-31</td>\n",
       "      <td>5263</td>\n",
       "      <td>555</td>\n",
       "      <td>1</td>\n",
       "      <td>1</td>\n",
       "      <td>0</td>\n",
       "      <td>1</td>\n",
       "      <td>c</td>\n",
       "      <td>...</td>\n",
       "      <td>24.057572</td>\n",
       "      <td>12.239796</td>\n",
       "      <td>7.025163</td>\n",
       "      <td>19</td>\n",
       "      <td>6</td>\n",
       "      <td>48.864317</td>\n",
       "      <td>0.00</td>\n",
       "      <td>5.551306</td>\n",
       "      <td>Rain</td>\n",
       "      <td>59</td>\n",
       "    </tr>\n",
       "    <tr>\n",
       "      <th>3</th>\n",
       "      <td>1</td>\n",
       "      <td>5</td>\n",
       "      <td>2015-07-31</td>\n",
       "      <td>5263</td>\n",
       "      <td>555</td>\n",
       "      <td>1</td>\n",
       "      <td>1</td>\n",
       "      <td>0</td>\n",
       "      <td>1</td>\n",
       "      <td>c</td>\n",
       "      <td>...</td>\n",
       "      <td>31.000000</td>\n",
       "      <td>13.000000</td>\n",
       "      <td>10.000000</td>\n",
       "      <td>24</td>\n",
       "      <td>16</td>\n",
       "      <td>48.864317</td>\n",
       "      <td>0.00</td>\n",
       "      <td>5.000000</td>\n",
       "      <td>Rain</td>\n",
       "      <td>295</td>\n",
       "    </tr>\n",
       "    <tr>\n",
       "      <th>4</th>\n",
       "      <td>1</td>\n",
       "      <td>5</td>\n",
       "      <td>2015-07-31</td>\n",
       "      <td>5263</td>\n",
       "      <td>555</td>\n",
       "      <td>1</td>\n",
       "      <td>1</td>\n",
       "      <td>0</td>\n",
       "      <td>1</td>\n",
       "      <td>c</td>\n",
       "      <td>...</td>\n",
       "      <td>10.000000</td>\n",
       "      <td>10.000000</td>\n",
       "      <td>10.000000</td>\n",
       "      <td>29</td>\n",
       "      <td>16</td>\n",
       "      <td>48.864317</td>\n",
       "      <td>0.00</td>\n",
       "      <td>5.000000</td>\n",
       "      <td>Rain</td>\n",
       "      <td>267</td>\n",
       "    </tr>\n",
       "    <tr>\n",
       "      <th>...</th>\n",
       "      <td>...</td>\n",
       "      <td>...</td>\n",
       "      <td>...</td>\n",
       "      <td>...</td>\n",
       "      <td>...</td>\n",
       "      <td>...</td>\n",
       "      <td>...</td>\n",
       "      <td>...</td>\n",
       "      <td>...</td>\n",
       "      <td>...</td>\n",
       "      <td>...</td>\n",
       "      <td>...</td>\n",
       "      <td>...</td>\n",
       "      <td>...</td>\n",
       "      <td>...</td>\n",
       "      <td>...</td>\n",
       "      <td>...</td>\n",
       "      <td>...</td>\n",
       "      <td>...</td>\n",
       "      <td>...</td>\n",
       "      <td>...</td>\n",
       "    </tr>\n",
       "    <tr>\n",
       "      <th>16233067</th>\n",
       "      <td>1115</td>\n",
       "      <td>2</td>\n",
       "      <td>2013-01-01</td>\n",
       "      <td>0</td>\n",
       "      <td>0</td>\n",
       "      <td>0</td>\n",
       "      <td>0</td>\n",
       "      <td>a</td>\n",
       "      <td>1</td>\n",
       "      <td>d</td>\n",
       "      <td>...</td>\n",
       "      <td>31.000000</td>\n",
       "      <td>14.000000</td>\n",
       "      <td>10.000000</td>\n",
       "      <td>26</td>\n",
       "      <td>18</td>\n",
       "      <td>48.864317</td>\n",
       "      <td>0.76</td>\n",
       "      <td>6.000000</td>\n",
       "      <td>Rain</td>\n",
       "      <td>216</td>\n",
       "    </tr>\n",
       "    <tr>\n",
       "      <th>16233068</th>\n",
       "      <td>1115</td>\n",
       "      <td>2</td>\n",
       "      <td>2013-01-01</td>\n",
       "      <td>0</td>\n",
       "      <td>0</td>\n",
       "      <td>0</td>\n",
       "      <td>0</td>\n",
       "      <td>a</td>\n",
       "      <td>1</td>\n",
       "      <td>d</td>\n",
       "      <td>...</td>\n",
       "      <td>31.000000</td>\n",
       "      <td>11.000000</td>\n",
       "      <td>6.000000</td>\n",
       "      <td>40</td>\n",
       "      <td>23</td>\n",
       "      <td>63.000000</td>\n",
       "      <td>6.10</td>\n",
       "      <td>6.000000</td>\n",
       "      <td>Rain</td>\n",
       "      <td>234</td>\n",
       "    </tr>\n",
       "    <tr>\n",
       "      <th>16233069</th>\n",
       "      <td>1115</td>\n",
       "      <td>2</td>\n",
       "      <td>2013-01-01</td>\n",
       "      <td>0</td>\n",
       "      <td>0</td>\n",
       "      <td>0</td>\n",
       "      <td>0</td>\n",
       "      <td>a</td>\n",
       "      <td>1</td>\n",
       "      <td>d</td>\n",
       "      <td>...</td>\n",
       "      <td>10.000000</td>\n",
       "      <td>8.000000</td>\n",
       "      <td>5.000000</td>\n",
       "      <td>23</td>\n",
       "      <td>16</td>\n",
       "      <td>48.864317</td>\n",
       "      <td>0.00</td>\n",
       "      <td>6.000000</td>\n",
       "      <td>Rain</td>\n",
       "      <td>251</td>\n",
       "    </tr>\n",
       "    <tr>\n",
       "      <th>16233070</th>\n",
       "      <td>1115</td>\n",
       "      <td>2</td>\n",
       "      <td>2013-01-01</td>\n",
       "      <td>0</td>\n",
       "      <td>0</td>\n",
       "      <td>0</td>\n",
       "      <td>0</td>\n",
       "      <td>a</td>\n",
       "      <td>1</td>\n",
       "      <td>d</td>\n",
       "      <td>...</td>\n",
       "      <td>31.000000</td>\n",
       "      <td>16.000000</td>\n",
       "      <td>10.000000</td>\n",
       "      <td>43</td>\n",
       "      <td>29</td>\n",
       "      <td>48.864317</td>\n",
       "      <td>0.00</td>\n",
       "      <td>7.000000</td>\n",
       "      <td>Rain</td>\n",
       "      <td>220</td>\n",
       "    </tr>\n",
       "    <tr>\n",
       "      <th>16233071</th>\n",
       "      <td>1115</td>\n",
       "      <td>2</td>\n",
       "      <td>2013-01-01</td>\n",
       "      <td>0</td>\n",
       "      <td>0</td>\n",
       "      <td>0</td>\n",
       "      <td>0</td>\n",
       "      <td>a</td>\n",
       "      <td>1</td>\n",
       "      <td>d</td>\n",
       "      <td>...</td>\n",
       "      <td>31.000000</td>\n",
       "      <td>11.000000</td>\n",
       "      <td>9.000000</td>\n",
       "      <td>29</td>\n",
       "      <td>21</td>\n",
       "      <td>47.000000</td>\n",
       "      <td>5.08</td>\n",
       "      <td>6.000000</td>\n",
       "      <td>Rain</td>\n",
       "      <td>224</td>\n",
       "    </tr>\n",
       "  </tbody>\n",
       "</table>\n",
       "<p>16233072 rows × 43 columns</p>\n",
       "</div>"
      ],
      "text/plain": [
       "          Store  DayOfWeek       Date  Sales  Customers  Open  Promo  \\\n",
       "0             1          5 2015-07-31   5263        555     1      1   \n",
       "1             1          5 2015-07-31   5263        555     1      1   \n",
       "2             1          5 2015-07-31   5263        555     1      1   \n",
       "3             1          5 2015-07-31   5263        555     1      1   \n",
       "4             1          5 2015-07-31   5263        555     1      1   \n",
       "...         ...        ...        ...    ...        ...   ...    ...   \n",
       "16233067   1115          2 2013-01-01      0          0     0      0   \n",
       "16233068   1115          2 2013-01-01      0          0     0      0   \n",
       "16233069   1115          2 2013-01-01      0          0     0      0   \n",
       "16233070   1115          2 2013-01-01      0          0     0      0   \n",
       "16233071   1115          2 2013-01-01      0          0     0      0   \n",
       "\n",
       "         StateHoliday  SchoolHoliday StoreType  ... Max_VisibilityKm  \\\n",
       "0                   0              1         c  ...        31.000000   \n",
       "1                   0              1         c  ...        31.000000   \n",
       "2                   0              1         c  ...        24.057572   \n",
       "3                   0              1         c  ...        31.000000   \n",
       "4                   0              1         c  ...        10.000000   \n",
       "...               ...            ...       ...  ...              ...   \n",
       "16233067            a              1         d  ...        31.000000   \n",
       "16233068            a              1         d  ...        31.000000   \n",
       "16233069            a              1         d  ...        10.000000   \n",
       "16233070            a              1         d  ...        31.000000   \n",
       "16233071            a              1         d  ...        31.000000   \n",
       "\n",
       "          Mean_VisibilityKm  Min_VisibilitykM  Max_Wind_SpeedKm_h  \\\n",
       "0                 14.000000         10.000000                  14   \n",
       "1                 14.000000         10.000000                  21   \n",
       "2                 12.239796          7.025163                  19   \n",
       "3                 13.000000         10.000000                  24   \n",
       "4                 10.000000         10.000000                  29   \n",
       "...                     ...               ...                 ...   \n",
       "16233067          14.000000         10.000000                  26   \n",
       "16233068          11.000000          6.000000                  40   \n",
       "16233069           8.000000          5.000000                  23   \n",
       "16233070          16.000000         10.000000                  43   \n",
       "16233071          11.000000          9.000000                  29   \n",
       "\n",
       "          Mean_Wind_SpeedKm_h  Max_Gust_SpeedKm_h  Precipitationmm CloudCover  \\\n",
       "0                           5           48.864317             0.00   2.000000   \n",
       "1                          13           48.864317             0.00   5.000000   \n",
       "2                           6           48.864317             0.00   5.551306   \n",
       "3                          16           48.864317             0.00   5.000000   \n",
       "4                          16           48.864317             0.00   5.000000   \n",
       "...                       ...                 ...              ...        ...   \n",
       "16233067                   18           48.864317             0.76   6.000000   \n",
       "16233068                   23           63.000000             6.10   6.000000   \n",
       "16233069                   16           48.864317             0.00   6.000000   \n",
       "16233070                   29           48.864317             0.00   7.000000   \n",
       "16233071                   21           47.000000             5.08   6.000000   \n",
       "\n",
       "         Events WindDirDegrees  \n",
       "0           Fog            354  \n",
       "1          Rain            287  \n",
       "2          Rain             59  \n",
       "3          Rain            295  \n",
       "4          Rain            267  \n",
       "...         ...            ...  \n",
       "16233067   Rain            216  \n",
       "16233068   Rain            234  \n",
       "16233069   Rain            251  \n",
       "16233070   Rain            220  \n",
       "16233071   Rain            224  \n",
       "\n",
       "[16233072 rows x 43 columns]"
      ]
     },
     "execution_count": 16,
     "metadata": {},
     "output_type": "execute_result"
    }
   ],
   "source": [
    "merged_data = pd.merge(store_data, store_info, on='Store', how='inner')\n",
    "merged_data = pd.merge(merged_data, store_states, on='Store', how='left')\n",
    "merged_data = pd.merge(merged_data, state_names, on='State', how='left')\n",
    "merged_data = pd.merge(merged_data, weather_data, on='Date', how='left')\n",
    "merged_data"
   ]
  },
  {
   "cell_type": "code",
   "execution_count": 17,
   "metadata": {},
   "outputs": [
    {
     "name": "stdout",
     "output_type": "stream",
     "text": [
      "['Store', 'DayOfWeek', 'Date', 'Sales', 'Customers', 'Open', 'Promo', 'StateHoliday', 'SchoolHoliday', 'StoreType', 'Assortment', 'CompetitionDistance', 'CompetitionOpenSinceMonth', 'CompetitionOpenSinceYear', 'Promo2', 'Promo2SinceWeek', 'Promo2SinceYear', 'PromoInterval', 'State', 'StateName', 'file', 'Max_TemperatureC', 'Mean_TemperatureC', 'Min_TemperatureC', 'Dew_PointC', 'MeanDew_PointC', 'Min_DewpointC', 'Max_Humidity', 'Mean_Humidity', 'Min_Humidity', 'Max_Sea_Level_PressurehPa', 'Mean_Sea_Level_PressurehPa', 'Min_Sea_Level_PressurehPa', 'Max_VisibilityKm', 'Mean_VisibilityKm', 'Min_VisibilitykM', 'Max_Wind_SpeedKm_h', 'Mean_Wind_SpeedKm_h', 'Max_Gust_SpeedKm_h', 'Precipitationmm', 'CloudCover', 'Events', 'WindDirDegrees']\n"
     ]
    }
   ],
   "source": [
    "print(merged_data.columns.tolist())"
   ]
  },
  {
   "cell_type": "code",
   "execution_count": 18,
   "metadata": {},
   "outputs": [
    {
     "data": {
      "text/html": [
       "<div>\n",
       "<style scoped>\n",
       "    .dataframe tbody tr th:only-of-type {\n",
       "        vertical-align: middle;\n",
       "    }\n",
       "\n",
       "    .dataframe tbody tr th {\n",
       "        vertical-align: top;\n",
       "    }\n",
       "\n",
       "    .dataframe thead th {\n",
       "        text-align: right;\n",
       "    }\n",
       "</style>\n",
       "<table border=\"1\" class=\"dataframe\">\n",
       "  <thead>\n",
       "    <tr style=\"text-align: right;\">\n",
       "      <th></th>\n",
       "      <th>Sum of missing</th>\n",
       "      <th>Percentage of missing</th>\n",
       "    </tr>\n",
       "  </thead>\n",
       "  <tbody>\n",
       "    <tr>\n",
       "      <th>Store</th>\n",
       "      <td>0</td>\n",
       "      <td>0.0</td>\n",
       "    </tr>\n",
       "    <tr>\n",
       "      <th>DayOfWeek</th>\n",
       "      <td>0</td>\n",
       "      <td>0.0</td>\n",
       "    </tr>\n",
       "    <tr>\n",
       "      <th>Date</th>\n",
       "      <td>0</td>\n",
       "      <td>0.0</td>\n",
       "    </tr>\n",
       "    <tr>\n",
       "      <th>Sales</th>\n",
       "      <td>0</td>\n",
       "      <td>0.0</td>\n",
       "    </tr>\n",
       "    <tr>\n",
       "      <th>Customers</th>\n",
       "      <td>0</td>\n",
       "      <td>0.0</td>\n",
       "    </tr>\n",
       "    <tr>\n",
       "      <th>Open</th>\n",
       "      <td>0</td>\n",
       "      <td>0.0</td>\n",
       "    </tr>\n",
       "    <tr>\n",
       "      <th>Promo</th>\n",
       "      <td>0</td>\n",
       "      <td>0.0</td>\n",
       "    </tr>\n",
       "    <tr>\n",
       "      <th>StateHoliday</th>\n",
       "      <td>0</td>\n",
       "      <td>0.0</td>\n",
       "    </tr>\n",
       "    <tr>\n",
       "      <th>SchoolHoliday</th>\n",
       "      <td>0</td>\n",
       "      <td>0.0</td>\n",
       "    </tr>\n",
       "    <tr>\n",
       "      <th>StoreType</th>\n",
       "      <td>0</td>\n",
       "      <td>0.0</td>\n",
       "    </tr>\n",
       "    <tr>\n",
       "      <th>Assortment</th>\n",
       "      <td>0</td>\n",
       "      <td>0.0</td>\n",
       "    </tr>\n",
       "    <tr>\n",
       "      <th>CompetitionDistance</th>\n",
       "      <td>0</td>\n",
       "      <td>0.0</td>\n",
       "    </tr>\n",
       "    <tr>\n",
       "      <th>CompetitionOpenSinceMonth</th>\n",
       "      <td>0</td>\n",
       "      <td>0.0</td>\n",
       "    </tr>\n",
       "    <tr>\n",
       "      <th>CompetitionOpenSinceYear</th>\n",
       "      <td>0</td>\n",
       "      <td>0.0</td>\n",
       "    </tr>\n",
       "    <tr>\n",
       "      <th>Promo2</th>\n",
       "      <td>0</td>\n",
       "      <td>0.0</td>\n",
       "    </tr>\n",
       "    <tr>\n",
       "      <th>Promo2SinceWeek</th>\n",
       "      <td>0</td>\n",
       "      <td>0.0</td>\n",
       "    </tr>\n",
       "    <tr>\n",
       "      <th>Promo2SinceYear</th>\n",
       "      <td>0</td>\n",
       "      <td>0.0</td>\n",
       "    </tr>\n",
       "    <tr>\n",
       "      <th>PromoInterval</th>\n",
       "      <td>0</td>\n",
       "      <td>0.0</td>\n",
       "    </tr>\n",
       "    <tr>\n",
       "      <th>State</th>\n",
       "      <td>0</td>\n",
       "      <td>0.0</td>\n",
       "    </tr>\n",
       "    <tr>\n",
       "      <th>StateName</th>\n",
       "      <td>0</td>\n",
       "      <td>0.0</td>\n",
       "    </tr>\n",
       "    <tr>\n",
       "      <th>file</th>\n",
       "      <td>0</td>\n",
       "      <td>0.0</td>\n",
       "    </tr>\n",
       "    <tr>\n",
       "      <th>Max_TemperatureC</th>\n",
       "      <td>0</td>\n",
       "      <td>0.0</td>\n",
       "    </tr>\n",
       "    <tr>\n",
       "      <th>Mean_TemperatureC</th>\n",
       "      <td>0</td>\n",
       "      <td>0.0</td>\n",
       "    </tr>\n",
       "    <tr>\n",
       "      <th>Min_TemperatureC</th>\n",
       "      <td>0</td>\n",
       "      <td>0.0</td>\n",
       "    </tr>\n",
       "    <tr>\n",
       "      <th>Dew_PointC</th>\n",
       "      <td>0</td>\n",
       "      <td>0.0</td>\n",
       "    </tr>\n",
       "    <tr>\n",
       "      <th>MeanDew_PointC</th>\n",
       "      <td>0</td>\n",
       "      <td>0.0</td>\n",
       "    </tr>\n",
       "    <tr>\n",
       "      <th>Min_DewpointC</th>\n",
       "      <td>0</td>\n",
       "      <td>0.0</td>\n",
       "    </tr>\n",
       "    <tr>\n",
       "      <th>Max_Humidity</th>\n",
       "      <td>0</td>\n",
       "      <td>0.0</td>\n",
       "    </tr>\n",
       "    <tr>\n",
       "      <th>Mean_Humidity</th>\n",
       "      <td>0</td>\n",
       "      <td>0.0</td>\n",
       "    </tr>\n",
       "    <tr>\n",
       "      <th>Min_Humidity</th>\n",
       "      <td>0</td>\n",
       "      <td>0.0</td>\n",
       "    </tr>\n",
       "    <tr>\n",
       "      <th>Max_Sea_Level_PressurehPa</th>\n",
       "      <td>0</td>\n",
       "      <td>0.0</td>\n",
       "    </tr>\n",
       "    <tr>\n",
       "      <th>Mean_Sea_Level_PressurehPa</th>\n",
       "      <td>0</td>\n",
       "      <td>0.0</td>\n",
       "    </tr>\n",
       "    <tr>\n",
       "      <th>Min_Sea_Level_PressurehPa</th>\n",
       "      <td>0</td>\n",
       "      <td>0.0</td>\n",
       "    </tr>\n",
       "    <tr>\n",
       "      <th>Max_VisibilityKm</th>\n",
       "      <td>0</td>\n",
       "      <td>0.0</td>\n",
       "    </tr>\n",
       "    <tr>\n",
       "      <th>Mean_VisibilityKm</th>\n",
       "      <td>0</td>\n",
       "      <td>0.0</td>\n",
       "    </tr>\n",
       "    <tr>\n",
       "      <th>Min_VisibilitykM</th>\n",
       "      <td>0</td>\n",
       "      <td>0.0</td>\n",
       "    </tr>\n",
       "    <tr>\n",
       "      <th>Max_Wind_SpeedKm_h</th>\n",
       "      <td>0</td>\n",
       "      <td>0.0</td>\n",
       "    </tr>\n",
       "    <tr>\n",
       "      <th>Mean_Wind_SpeedKm_h</th>\n",
       "      <td>0</td>\n",
       "      <td>0.0</td>\n",
       "    </tr>\n",
       "    <tr>\n",
       "      <th>Max_Gust_SpeedKm_h</th>\n",
       "      <td>0</td>\n",
       "      <td>0.0</td>\n",
       "    </tr>\n",
       "    <tr>\n",
       "      <th>Precipitationmm</th>\n",
       "      <td>0</td>\n",
       "      <td>0.0</td>\n",
       "    </tr>\n",
       "    <tr>\n",
       "      <th>CloudCover</th>\n",
       "      <td>0</td>\n",
       "      <td>0.0</td>\n",
       "    </tr>\n",
       "    <tr>\n",
       "      <th>Events</th>\n",
       "      <td>0</td>\n",
       "      <td>0.0</td>\n",
       "    </tr>\n",
       "    <tr>\n",
       "      <th>WindDirDegrees</th>\n",
       "      <td>0</td>\n",
       "      <td>0.0</td>\n",
       "    </tr>\n",
       "  </tbody>\n",
       "</table>\n",
       "</div>"
      ],
      "text/plain": [
       "                            Sum of missing  Percentage of missing\n",
       "Store                                    0                    0.0\n",
       "DayOfWeek                                0                    0.0\n",
       "Date                                     0                    0.0\n",
       "Sales                                    0                    0.0\n",
       "Customers                                0                    0.0\n",
       "Open                                     0                    0.0\n",
       "Promo                                    0                    0.0\n",
       "StateHoliday                             0                    0.0\n",
       "SchoolHoliday                            0                    0.0\n",
       "StoreType                                0                    0.0\n",
       "Assortment                               0                    0.0\n",
       "CompetitionDistance                      0                    0.0\n",
       "CompetitionOpenSinceMonth                0                    0.0\n",
       "CompetitionOpenSinceYear                 0                    0.0\n",
       "Promo2                                   0                    0.0\n",
       "Promo2SinceWeek                          0                    0.0\n",
       "Promo2SinceYear                          0                    0.0\n",
       "PromoInterval                            0                    0.0\n",
       "State                                    0                    0.0\n",
       "StateName                                0                    0.0\n",
       "file                                     0                    0.0\n",
       "Max_TemperatureC                         0                    0.0\n",
       "Mean_TemperatureC                        0                    0.0\n",
       "Min_TemperatureC                         0                    0.0\n",
       "Dew_PointC                               0                    0.0\n",
       "MeanDew_PointC                           0                    0.0\n",
       "Min_DewpointC                            0                    0.0\n",
       "Max_Humidity                             0                    0.0\n",
       "Mean_Humidity                            0                    0.0\n",
       "Min_Humidity                             0                    0.0\n",
       "Max_Sea_Level_PressurehPa                0                    0.0\n",
       "Mean_Sea_Level_PressurehPa               0                    0.0\n",
       "Min_Sea_Level_PressurehPa                0                    0.0\n",
       "Max_VisibilityKm                         0                    0.0\n",
       "Mean_VisibilityKm                        0                    0.0\n",
       "Min_VisibilitykM                         0                    0.0\n",
       "Max_Wind_SpeedKm_h                       0                    0.0\n",
       "Mean_Wind_SpeedKm_h                      0                    0.0\n",
       "Max_Gust_SpeedKm_h                       0                    0.0\n",
       "Precipitationmm                          0                    0.0\n",
       "CloudCover                               0                    0.0\n",
       "Events                                   0                    0.0\n",
       "WindDirDegrees                           0                    0.0"
      ]
     },
     "execution_count": 18,
     "metadata": {},
     "output_type": "execute_result"
    }
   ],
   "source": [
    "sum_of_nan = merged_data.isna().sum()\n",
    "percentage_of_nan = merged_data.isnull().mean()\n",
    "pd.concat([sum_of_nan, percentage_of_nan * 100], keys = ['Sum of missing','Percentage of missing'], axis =1).sort_values(by=['Sum of missing','Percentage of missing'], ascending = False)"
   ]
  },
  {
   "cell_type": "markdown",
   "metadata": {},
   "source": [
    "Powyższa tabela przedstawia sumę i procentowy udział brakujących wartości poszczególnych cech w datasecie. Widać, że cała wypełniona jest zerami, co dowodzi temu, że obrobiliśmy wszystkie brakujące dane i możemy przejść do głównej analizy cech."
   ]
  },
  {
   "cell_type": "markdown",
   "metadata": {},
   "source": [
    "# Analiza: 1. Typ sklepu"
   ]
  },
  {
   "cell_type": "code",
   "execution_count": 19,
   "metadata": {},
   "outputs": [
    {
     "data": {
      "image/png": "[encoded data removed]",
      "text/plain": [
       "<Figure size 640x480 with 1 Axes>"
      ]
     },
     "metadata": {},
     "output_type": "display_data"
    }
   ],
   "source": [
    "sns.countplot(merged_data['StoreType'])\n",
    "plt.title(f\" Najczęściej występujący typ sklepu używając coutplot\")\n",
    "plt.show()"
   ]
  },
  {
   "cell_type": "markdown",
   "metadata": {},
   "source": [
    "Sprawdzamy jak typ sklepu wpływa na sprzedaż oraz liczbę odwiedzających "
   ]
  },
  {
   "cell_type": "code",
   "execution_count": 20,
   "metadata": {},
   "outputs": [
    {
     "data": {
      "text/html": [
       "<div>\n",
       "<style scoped>\n",
       "    .dataframe tbody tr th:only-of-type {\n",
       "        vertical-align: middle;\n",
       "    }\n",
       "\n",
       "    .dataframe tbody tr th {\n",
       "        vertical-align: top;\n",
       "    }\n",
       "\n",
       "    .dataframe thead th {\n",
       "        text-align: right;\n",
       "    }\n",
       "</style>\n",
       "<table border=\"1\" class=\"dataframe\">\n",
       "  <thead>\n",
       "    <tr style=\"text-align: right;\">\n",
       "      <th></th>\n",
       "      <th>StoreType</th>\n",
       "      <th>Sales</th>\n",
       "      <th>Customers</th>\n",
       "    </tr>\n",
       "  </thead>\n",
       "  <tbody>\n",
       "    <tr>\n",
       "      <th>0</th>\n",
       "      <td>a</td>\n",
       "      <td>50591193232</td>\n",
       "      <td>5811269024</td>\n",
       "    </tr>\n",
       "    <tr>\n",
       "      <th>1</th>\n",
       "      <td>b</td>\n",
       "      <td>2547702320</td>\n",
       "      <td>503449936</td>\n",
       "    </tr>\n",
       "    <tr>\n",
       "      <th>2</th>\n",
       "      <td>c</td>\n",
       "      <td>12531542816</td>\n",
       "      <td>1474075280</td>\n",
       "    </tr>\n",
       "    <tr>\n",
       "      <th>3</th>\n",
       "      <td>d</td>\n",
       "      <td>28108710336</td>\n",
       "      <td>2496535760</td>\n",
       "    </tr>\n",
       "  </tbody>\n",
       "</table>\n",
       "</div>"
      ],
      "text/plain": [
       "  StoreType        Sales   Customers\n",
       "0         a  50591193232  5811269024\n",
       "1         b   2547702320   503449936\n",
       "2         c  12531542816  1474075280\n",
       "3         d  28108710336  2496535760"
      ]
     },
     "execution_count": 20,
     "metadata": {},
     "output_type": "execute_result"
    }
   ],
   "source": [
    "# Grupowanie danych według typu sklepu i obliczenie sumy sprzedaży i liczby klientów dla każdej grupy\n",
    "sales_customers_by_store_type = merged_data.groupby('StoreType')[['Sales', 'Customers']].sum().reset_index()\n",
    "sales_customers_by_store_type"
   ]
  },
  {
   "cell_type": "markdown",
   "metadata": {},
   "source": [
    "Sklepy typu 'a' mają największą łączną sprzedaż (50,591,193,232) i największą liczbę klientów (5,811,269,024). Wydają się być dominujące pod względem ogólnych wyników sprzedaży i obsługi klienta \\\n",
    "Sklepy typu 'b' charakteryzują się najniższą łączną sprzedażą (2,547,702,320) i liczbą klientów (503,449,936) \\\n",
    "Sklepy typu 'c' zajmują środkową pozycję pod względem łącznej sprzedaży (12,531,542,816) i liczby klientów (1,474,075,280) \\\n",
    "Sklepy typu 'd' mają trzecią co do wielkości łączną sprzedaż (28,108,710,336), ale ich liczba klientów (2,496,535,760) jest niższa niż w sklepach typu 'a'"
   ]
  },
  {
   "cell_type": "code",
   "execution_count": 21,
   "metadata": {},
   "outputs": [
    {
     "data": {
      "image/png": "[encoded data removed]",
      "text/plain": [
       "<Figure size 640x480 with 1 Axes>"
      ]
     },
     "metadata": {},
     "output_type": "display_data"
    }
   ],
   "source": [
    "average_sales_by_store_type = merged_data.groupby('StoreType')['Sales'].mean().reset_index()\n",
    "\n",
    "# Wykres średniej sprzedaży w zależności od typu sklepu\n",
    "sns.barplot(x='StoreType', y='Sales', data=average_sales_by_store_type)\n",
    "plt.title('Średnia sprzedaż w zależności od typu sklepu')\n",
    "plt.show()\n"
   ]
  },
  {
   "cell_type": "markdown",
   "metadata": {},
   "source": [
    "Typ sklepu 'b' charakteryzuje się najniższą łączną sprzedażą i liczbą odwiedzających, jednak z powyższego bar-plotu wynika, iż największa średnia sprzedaż w zależności od typu sklepu jest właśnie dla sklepu 'b'. Średnia sprzedaż dla typu sklepu 'b' jest najwyższa w porównaniu do innych typów sklepów. Może to wynikać z rodzaju asortymentu dostępnego w tym sklepie w porównaniu do innych, promocji bądź outlierów. Chcąc dokonać dalszego porównania typów sklepów, by móc wyciągnąć wnioski jak kategoryzowane są sklepy, poniżej przeprowadzono test statystyczny, który pozwoli zbadać, czy rozkłady asortymentów różnią się w sposób istotny statystycznie między różnymi typami sklepów. "
   ]
  },
  {
   "cell_type": "code",
   "execution_count": 22,
   "metadata": {},
   "outputs": [
    {
     "name": "stdout",
     "output_type": "stream",
     "text": [
      "Statystyka chi-kwadrat: 9406508.018609982\n",
      "P-wartość: 0.0\n",
      "Stwierdzamy istotną różnicę między typem sklepu a asortymentem.\n"
     ]
    }
   ],
   "source": [
    "from scipy.stats import chi2_contingency\n",
    "contingency_table = pd.crosstab(merged_data['StoreType'], merged_data['Assortment'])\n",
    "chi2, p, _, _ = chi2_contingency(contingency_table)\n",
    "\n",
    "# Wyniki\n",
    "print(f\"Statystyka chi-kwadrat: {chi2}\")\n",
    "print(f\"P-wartość: {p}\")\n",
    "\n",
    "# Sprawdzamy, czy p-wartość jest mniejsza od poziomu istotności przyjętego 0.05\n",
    "if p < 0.05:\n",
    "    print(\"Stwierdzamy istotną różnicę między typem sklepu a asortymentem.\")\n",
    "else:\n",
    "    print(\"Nie stwierdzono istotnej różnicy między typem sklepu a asortymentem.\")"
   ]
  },
  {
   "cell_type": "markdown",
   "metadata": {},
   "source": [
    "Stwierdzamy istotną różnicę między typem sklepu a asortymentem. Dlatego poniżej posłużono się analizą krzyżową celem dostarczenia informacji na temat rozkładu asortymentów w poszczególnych typach sklepów. "
   ]
  },
  {
   "cell_type": "code",
   "execution_count": 24,
   "metadata": {},
   "outputs": [
    {
     "name": "stdout",
     "output_type": "stream",
     "text": [
      "Assortment        a       b        c    Total\n",
      "StoreType                                    \n",
      "a           5542224       0  3268736  8810960\n",
      "b            105504  132704    15072   253280\n",
      "c           1134048       0  1055392  2189440\n",
      "d           1790144       0  3189248  4979392\n"
     ]
    }
   ],
   "source": [
    "cross_tab = pd.crosstab(merged_data['StoreType'], merged_data['Assortment'])\n",
    "assortment_sums = cross_tab.sum(axis=1)\n",
    "cross_tab['Total'] = assortment_sums\n",
    "print(cross_tab)"
   ]
  },
  {
   "cell_type": "markdown",
   "metadata": {},
   "source": [
    "Wnioski z analizy krzyżowej pomiędzy typem sklepu a asortymentem: \\\n",
    "Typ sklepu a: \\\n",
    "Asortyment a w sklepie a: 5542224 \\\n",
    "Asortyment b w sklepie a: 0 \\\n",
    "Asortyment c w sklepie a: 3268736 \\\n",
    "Typ sklepu b: \\\n",
    " Asortyment a w sklepie b: 105504 \\\n",
    " Asortyment b w sklepie b: 132704 \\\n",
    " Asortyment c w sklepie b: 15072 \\\n",
    " Typ sklepu c: \\\n",
    " Asortyment a w sklepie c: 1134048 \\\n",
    " Asortyment b w sklepie c: 0 \\\n",
    " Asortyment c w sklepie c: 1055392 \\\n",
    " Typ sklepu d: \\\n",
    " Asortyment a w sklepie d: 1790144 \\\n",
    " Asortyment b w sklepie d: 0 \\\n",
    " Asortyment c w sklepie d: 3189248 \\\n",
    " \\\n",
    " Sklepy typu 'b' posiadają najbardziej zróżnicowany asortyment, obejmujący wszystkie poziomy ('a', 'b', 'c'). Asortyment 'b' wydaje się być bardziej charakterystyczny dla sklepów typu 'b'. Sklepy typu 'a', 'c', 'd' posiadają głównie asortymenty 'a' i 'c',  ale nie posiadają asortymentu 'b'. \\ \n",
    " \\\n",
    " Sumy wskazują na to, że najwięcej asortymentu niezależnie od podziału na typ posiadają sklepy typu 'a', następnie typu 'd', kolejno typu 'c' i najmniej typu 'b'.\n",
    "\n",
    " \n"
   ]
  },
  {
   "cell_type": "code",
   "execution_count": 116,
   "metadata": {},
   "outputs": [
    {
     "data": {
      "image/png": "[encoded data removed]",
      "text/plain": [
       "<Figure size 640x480 with 1 Axes>"
      ]
     },
     "metadata": {},
     "output_type": "display_data"
    },
    {
     "data": {
      "image/png": "[encoded data removed]",
      "text/plain": [
       "<Figure size 640x480 with 1 Axes>"
      ]
     },
     "metadata": {},
     "output_type": "display_data"
    }
   ],
   "source": [
    "# Wykresy rozkładu danych\n",
    "sns.boxplot(x='StoreType', y='Sales', data=merged_data)\n",
    "plt.title('Rozkład sprzedaży w zależności od typu sklepu')\n",
    "plt.show()\n",
    "\n",
    "sns.boxplot(x='StoreType', y='Customers', data=merged_data)\n",
    "plt.title('Rozkład liczby klientów w zależności od typu sklepu')\n",
    "plt.show()"
   ]
  },
  {
   "cell_type": "markdown",
   "metadata": {},
   "source": [
    "Sklep typu b cechuje się wyższą medianą zarówno pod względem wyników sprzedaży jak i liczby klientów odwiedzających sklep. Równocześnie sklep b cechuje się większym rozrzutem danych zarówno pod względem wyników sprzedaży jak i liczby klientów odwiedzających sklep w porównaniu do sklepów innego typu. Sklepy a, c, d mają spójniejsze wyniki sprzedażowe i pod względem liczby klientów. Różnice między typami sklepów w kontekście wyników sprzedażowych i pod względem liczby klientów są znaczące między typem b a pozostałymi. \\\n",
    "Chcąc znaleźć sposób, który pozwoli stwierdzić co mogą oznaczać typy sklepów a,b,c,d, obliczono średni czas otwarcia każdego z typów sklepow. Z poniższych wyników wynika, iż sklep typu b cechuje się najwyższym średnim czasem otwarcia. "
   ]
  },
  {
   "cell_type": "code",
   "execution_count": 117,
   "metadata": {},
   "outputs": [
    {
     "data": {
      "text/plain": [
       "<Axes: title={'center': 'Średni czas otwarcia sklepów'}, xlabel='Typ Sklepu', ylabel='Średni czas otwarcia'>"
      ]
     },
     "execution_count": 117,
     "metadata": {},
     "output_type": "execute_result"
    },
    {
     "data": {
      "image/png": "[encoded data removed]",
      "text/plain": [
       "<Figure size 640x480 with 1 Axes>"
      ]
     },
     "metadata": {},
     "output_type": "display_data"
    }
   ],
   "source": [
    "avg_open_time = merged_data.groupby('StoreType')['Open'].mean()\n",
    "avg_open_time.plot(kind='bar', xlabel='Typ sklepu', ylabel='Średni czas otwarcia', title='Średni czas otwarcia sklepów')"
   ]
  },
  {
   "cell_type": "markdown",
   "metadata": {},
   "source": [
    "Wiemy już, że typ sklepu 'a' dotyczy sklepów z najwyższą sprzedażą oraz liczbą odwiedzających, a także największym asortymentem (ale nie najbardziej różnorodnym). Typ 'b' wyróżnia się najbardziej zróżnicowanym asortymentem (gdyż zawiera wszystkie trzy typy asortymentu). "
   ]
  },
  {
   "cell_type": "code",
   "execution_count": 26,
   "metadata": {},
   "outputs": [
    {
     "name": "stdout",
     "output_type": "stream",
     "text": [
      "Statystyka chi-kwadrat: 2088307.9508889026\n",
      "P-wartość: 0.0\n",
      "Stwierdzamy istotną różnicę między lokalizacją a typem sklepu.\n"
     ]
    }
   ],
   "source": [
    "from scipy.stats import chi2_contingency\n",
    "localization_data = merged_data[['StoreType', 'State']]\n",
    "\n",
    "# Tworzenie tabeli przestawnej (pivot table)\n",
    "pivot_table = pd.pivot_table(localization_data, index='State', columns='StoreType', aggfunc=len, fill_value=0)\n",
    "\n",
    "# Przeprowadzenie testu chi-kwadrat\n",
    "chi2, p, _, _ = chi2_contingency(pivot_table)\n",
    "\n",
    "# Wyniki\n",
    "print(f\"Statystyka chi-kwadrat: {chi2}\")\n",
    "print(f\"P-wartość: {p}\")\n",
    "\n",
    "# Sprawdzamy, czy p-wartość jest mniejsza od poziomu istotności przyjętego 0.05\n",
    "if p < 0.05:\n",
    "    print(\"Stwierdzamy istotną różnicę między lokalizacją a typem sklepu.\")\n",
    "else:\n",
    "    print(\"Nie stwierdzono istotnej różnicy między lokalizacją a typem sklepu.\")"
   ]
  },
  {
   "cell_type": "markdown",
   "metadata": {},
   "source": [
    "P-wartość wynosząca 0.0 jest mniejsza niż przyjęty poziom istotności (0.05), co oznacza, że możemy odrzucić hipotezę zerową o braku zależności między lokalizacją a typem sklepu. W praktyce oznacza to, że lokalizacja (stan) może mieć wpływ na przypisanie typów sklepów. Sprawdzono poniżej jaki typ sklepu pojawiał się najczęściej w konkretnym landzie."
   ]
  },
  {
   "cell_type": "code",
   "execution_count": 29,
   "metadata": {},
   "outputs": [
    {
     "name": "stdout",
     "output_type": "stream",
     "text": [
      "Procentowy udział poszczególnych typów sklepów w każdym landzie:\n",
      "StoreType          a         b          c          d\n",
      "State                                               \n",
      "BE         58.695652  5.434783  23.913043  11.956522\n",
      "BW         45.205479  2.739726  17.808219  34.246575\n",
      "BY         46.927374  0.558659   7.821229  44.692737\n",
      "HB,NI      54.545455  4.545455  22.727273  18.181818\n",
      "HE         35.714286  2.678571  10.714286  50.892857\n",
      "HH         60.714286  3.571429  28.571429   7.142857\n",
      "NW         66.083916  1.048951   7.692308  25.174825\n",
      "RP         30.000000  2.500000   7.500000  60.000000\n",
      "SH         64.034753  0.000000  10.526414  25.438833\n",
      "SN         50.000000  0.000000  25.675676  24.324324\n",
      "ST         53.571429  0.000000  19.642857  26.785714\n",
      "TH         55.555556  0.000000  19.444444  25.000000\n"
     ]
    },
    {
     "data": {
      "image/png": "[encoded data removed]",
      "text/plain": [
       "<Figure size 640x480 with 1 Axes>"
      ]
     },
     "metadata": {},
     "output_type": "display_data"
    }
   ],
   "source": [
    "# Tabela przestawna dla landów i typów sklepów\n",
    "pivot_table_land_type = pd.pivot_table(localization_data, index='State', columns='StoreType', aggfunc=len, fill_value=0)\n",
    "\n",
    "# Procentowy udział poszczególnych typów sklepów w każdym landzie\n",
    "percentage_land_type = pivot_table_land_type.div(pivot_table_land_type.sum(axis=1), axis=0) * 100\n",
    "\n",
    "# Wyniki\n",
    "print(\"Procentowy udział poszczególnych typów sklepów w każdym landzie:\")\n",
    "print(percentage_land_type)\n",
    "\n",
    "# Wykres słupkowy dla landów i procentowego udziału typów sklepów\n",
    "percentage_land_type.plot(kind='bar', stacked=True)\n",
    "plt.title('Procentowy udział poszczególnych typów sklepów w każdym landzie')\n",
    "plt.xlabel('Land')\n",
    "plt.ylabel('Procentowy udział')\n",
    "plt.show()\n"
   ]
  },
  {
   "cell_type": "markdown",
   "metadata": {},
   "source": [
    "Landy sąsiadujące posiadają zbliżone rozkłady typów sklepów na swoich powierzchniach. Jednak nie da się jednoznaczenie powiązać typów do części wschodniej, czy zachodniej Niemiec bądź znaleźć konkretnego schematu, gdyż np. sklepów typu 'b' nie ma zarówno w landzie SchleswigHolstein należącym do zachodniej części Niemiec oraz nie ma w landzie Sachsen, który leży we wschodniej części Niemiec. "
   ]
  },
  {
   "cell_type": "code",
   "execution_count": 31,
   "metadata": {},
   "outputs": [
    {
     "name": "stdout",
     "output_type": "stream",
     "text": [
      "        State           StateName\n",
      "0          HE              Hessen\n",
      "15072      TH          Thueringen\n",
      "30144      NW  NordrheinWestfalen\n",
      "45216      BE              Berlin\n",
      "60288      SN             Sachsen\n",
      "90432      SH   SchleswigHolstein\n",
      "135648  HB,NI       Niedersachsen\n",
      "180864     BY              Bayern\n",
      "223136     BW   BadenWuerttemberg\n",
      "322752     RP      RheinlandPfalz\n",
      "398112     ST       SachsenAnhalt\n",
      "672704     HH             Hamburg\n"
     ]
    }
   ],
   "source": [
    "unique_states = merged_data[['State', 'StateName']].drop_duplicates()\n",
    "print(unique_states)"
   ]
  },
  {
   "cell_type": "markdown",
   "metadata": {},
   "source": [
    "Poniżej sprawdzono, czy istnieje zależność pomiędzy promocją a przypisaniem typu sklepu. Nie stwierdzono istotnej różnicy pomiędzy promocją a typem sklepu. "
   ]
  },
  {
   "cell_type": "code",
   "execution_count": 32,
   "metadata": {},
   "outputs": [
    {
     "name": "stdout",
     "output_type": "stream",
     "text": [
      "Statystyka chi-kwadrat: 3.0304484877678353\n",
      "P-wartość: 0.386954401479962\n",
      "Nie stwierdzono istotnej różnicy między promocją a typem sklepu.\n"
     ]
    }
   ],
   "source": [
    "from scipy.stats import chi2_contingency\n",
    "\n",
    "# Tworzenie tabeli przestawnej (pivot table) dla promocji i typów sklepów\n",
    "promotion_data = merged_data[['StoreType', 'Promo']]\n",
    "\n",
    "pivot_table_promo = pd.pivot_table(promotion_data, index='StoreType', columns='Promo', aggfunc=len, fill_value=0)\n",
    "\n",
    "# Przeprowadzenie testu chi-kwadrat\n",
    "chi2, p, _, _ = chi2_contingency(pivot_table_promo)\n",
    "\n",
    "# Wyniki\n",
    "print(f\"Statystyka chi-kwadrat: {chi2}\")\n",
    "print(f\"P-wartość: {p}\")\n",
    "\n",
    "# Sprawdzamy, czy p-wartość jest mniejsza od poziomu istotności przyjętego 0.05\n",
    "if p < 0.05:\n",
    "    print(\"Stwierdzamy istotną różnicę między promocją a typem sklepu.\")\n",
    "else:\n",
    "    print(\"Nie stwierdzono istotnej różnicy między promocją a typem sklepu.\")\n"
   ]
  },
  {
   "cell_type": "markdown",
   "metadata": {},
   "source": [
    "# Wnioski do zadania dotyczącego oznaczania typów sklepów a, b, c, d"
   ]
  },
  {
   "cell_type": "markdown",
   "metadata": {},
   "source": [
    "Sklep typu 'a' cechuje się najwyższym obrotem handlowym, a także największą liczbą odwiedzających. Dodatkowo ten typ sklepu występuje najczęściej. Znaczny udział w każdym landzie sugeruje, że to może być typ standardowy sklepu, obejmujący szeroki zakres produktów.\\\n",
    "Sklep typu 'b' cechuje się najbardziej zróżnicowanym asortymentem (zawiera wszystkie trzy poziomy asortymentu a, b, c), podczas gdy typy a, c, d nie posiadają asortymentu 'b'. Dodatkowo sklepy typu 'b' nie występują we wszystkich landach (nie pojawiają się w SH, SN, ST, TH). Dla typu sklepu 'b' określono też najwyższy wynik średniego czasu otwarcia sklepów. Możliwe, że ten typ sklepu określa małe punkty umiejscowione w newralgicznych miejscach i cechujące się ponadprzeciętnymi godzinami otwarcia, co wyjaśniałoby najwyższą średnią sprzedaż w tym typie sklepu. \\\n",
    "Sklep typu 'd' zajmuje drugie miejsce pod względem obrotu handlowego, liczby klientów oraz wielkości asortymentu (wielkości, nie różnorodności). Są landy, w których typ sklepu 'd' dominuje, co może oznaczać oferanie rozszerzonego asortymentu i dodatkowych usług spersonalizowanych pod mieszkańców tych landów. \\\n",
    "Sklep typu 'c' zajmuje trzecie miejsce pod względem obrotu handlowego, liczby klientów oraz wielkości asortymentu (wielkości, nie różnorodności)\n",
    "\n",
    "Procentowe udziały poszczególnych typów sklepów w landach są zbliżone w landach sąsiadujących. Test chi-kwadrat wskazał istotną różnicę między lokalizacją a typem sklepu. \\\n",
    "\\\n",
    "Nie stwierdzono istotnej różnicy między promocją a typem sklepu."
   ]
  },
  {
   "cell_type": "markdown",
   "metadata": {},
   "source": [
    "Typ sklepu - OLS"
   ]
  },
  {
   "cell_type": "code",
   "execution_count": 33,
   "metadata": {},
   "outputs": [
    {
     "name": "stdout",
     "output_type": "stream",
     "text": [
      "                            OLS Regression Results                            \n",
      "==============================================================================\n",
      "Dep. Variable:                  Sales   R-squared:                       0.020\n",
      "Model:                            OLS   Adj. R-squared:                  0.020\n",
      "Method:                 Least Squares   F-statistic:                 8.693e+04\n",
      "Date:                Fri, 26 Jan 2024   Prob (F-statistic):               0.00\n",
      "Time:                        03:32:20   Log-Likelihood:            -1.2551e+08\n",
      "No. Observations:            12986457   AIC:                         2.510e+08\n",
      "Df Residuals:                12986453   BIC:                         2.510e+08\n",
      "Df Model:                           3                                         \n",
      "Covariance Type:            nonrobust                                         \n",
      "===============================================================================\n",
      "                  coef    std err          t      P>|t|      [0.025      0.975]\n",
      "-------------------------------------------------------------------------------\n",
      "const        5741.1047      1.436   3997.879      0.000    5738.290    5743.919\n",
      "StoreType_b  4313.7226      8.590    502.182      0.000    4296.887    4330.559\n",
      "StoreType_c   -18.8374      3.219     -5.852      0.000     -25.147     -12.528\n",
      "StoreType_d   -94.6444      2.390    -39.604      0.000     -99.328     -89.961\n",
      "==============================================================================\n",
      "Omnibus:                  1090729.565   Durbin-Watson:                   2.000\n",
      "Prob(Omnibus):                  0.000   Jarque-Bera (JB):          2068096.964\n",
      "Skew:                           0.585   Prob(JB):                         0.00\n",
      "Kurtosis:                       4.566   Cond. No.                         8.65\n",
      "==============================================================================\n",
      "\n",
      "Notes:\n",
      "[1] Standard Errors assume that the covariance matrix of the errors is correctly specified.\n",
      "\n",
      "Współczynniki istotności statystycznej:\n",
      "const          0.000000e+00\n",
      "StoreType_b    0.000000e+00\n",
      "StoreType_c    4.870700e-09\n",
      "StoreType_d    0.000000e+00\n",
      "dtype: float64\n",
      "\n",
      "Ogólny wpływ Typu sklepu na sprzedaż:\n",
      "Współczynniki regresji:\n",
      "const          5741.104731\n",
      "StoreType_b    4313.722574\n",
      "StoreType_c     -18.837442\n",
      "StoreType_d     -94.644367\n",
      "dtype: float64\n",
      "\n",
      "Średni błąd kwadratowy (MSE) na danych testowych: 14546300.357183037\n"
     ]
    }
   ],
   "source": [
    "import statsmodels.api as sm\n",
    "from sklearn.model_selection import train_test_split\n",
    "from sklearn.metrics import mean_squared_error\n",
    "\n",
    "# Przypisanie zmiennych\n",
    "X = pd.get_dummies(merged_data['StoreType'], prefix='StoreType', drop_first=True)\n",
    "y = merged_data['Sales']\n",
    "\n",
    "# Podział na train i test\n",
    "X_train, X_test, y_train, y_test = train_test_split(X, y, test_size=0.2, random_state=42)\n",
    "\n",
    "# Stworzenie modelu regresji\n",
    "model = sm.OLS(y_train, sm.add_constant(X_train)).fit()\n",
    "\n",
    "# Wyświetlenie podsumowania modelu\n",
    "print(model.summary())\n",
    "\n",
    "# Sprawdzenie współczynników istotności statystycznej\n",
    "p_values = model.pvalues\n",
    "print(\"\\nWspółczynniki istotności statystycznej:\")\n",
    "print(p_values)\n",
    "\n",
    "# Ogólny wpływ typu sklepu na sprzedaż\n",
    "print(\"\\nOgólny wpływ Typu sklepu na sprzedaż:\")\n",
    "print(\"Współczynniki regresji:\")\n",
    "print(model.params)\n",
    "\n",
    "# Sprawdzenie modelu na danych testowych\n",
    "y_pred = model.predict(sm.add_constant(X_test))\n",
    "mse = mean_squared_error(y_test, y_pred)\n",
    "print(\"\\nŚredni błąd kwadratowy (MSE) na danych testowych:\", mse)\n"
   ]
  },
  {
   "cell_type": "markdown",
   "metadata": {},
   "source": [
    "# Typ sklepu - wnioski ze znaczenia cechy"
   ]
  },
  {
   "cell_type": "markdown",
   "metadata": {},
   "source": [
    "Tu wpisz wnioski!!!"
   ]
  },
  {
   "cell_type": "markdown",
   "metadata": {},
   "source": [
    "# Analiza: 2. Dni wolne od nauki szkolnej"
   ]
  },
  {
   "cell_type": "code",
   "execution_count": 103,
   "metadata": {},
   "outputs": [
    {
     "name": "stdout",
     "output_type": "stream",
     "text": [
      "           Open     Sales\n",
      "Open   1.000000  0.678637\n",
      "Sales  0.678637  1.000000\n"
     ]
    }
   ],
   "source": [
    "# Zależność między wskaźnikiem Open a Wynikami Sprzedażowymi:\n",
    "correlation = merged_data[['Open', 'Sales']].corr()\n",
    "print(correlation)"
   ]
  },
  {
   "cell_type": "markdown",
   "metadata": {},
   "source": [
    "Korelacja między wskaźnikiem Open a sprzedażą wynosi około 0.68, co wskazuje na umiarkowaną dodatnią korelację między tymi dwoma zmiennymi. Gdy wskaźnik Open jest wysoki, istnieje tendencja do większej sprzedaży"
   ]
  }
 ],
 "metadata": {
  "kernelspec": {
   "display_name": "ead_venv",
   "language": "python",
   "name": "python3"
  },
  "language_info": {
   "codemirror_mode": {
    "name": "ipython",
    "version": 3
   },
   "file_extension": ".py",
   "mimetype": "text/x-python",
   "name": "python",
   "nbconvert_exporter": "python",
   "pygments_lexer": "ipython3",
   "version": "3.10.12"
  }
 },
 "nbformat": 4,
 "nbformat_minor": 2
}
